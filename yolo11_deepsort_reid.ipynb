{
 "cells": [
  {
   "cell_type": "code",
   "execution_count": null,
   "id": "7b2090b8",
   "metadata": {},
   "outputs": [
    {
     "name": "stdout",
     "output_type": "stream",
     "text": [
      "✅ YOLOv model loaded successfully\n"
     ]
    },
    {
     "name": "stderr",
     "output_type": "stream",
     "text": [
      "Ultralytics YOLOv8.0.20  Python-3.10.18 torch-2.1.0+cpu CPU\n"
     ]
    },
    {
     "name": "stdout",
     "output_type": "stream",
     "text": [
      "✅ DeepSORT tracker loaded successfully\n"
     ]
    },
    {
     "name": "stderr",
     "output_type": "stream",
     "text": [
      "YOLOv8n summary (fused): 168 layers, 3151904 parameters, 0 gradients, 8.7 GFLOPs\n"
     ]
    },
    {
     "name": "stdout",
     "output_type": "stream",
     "text": [
      "Processed 30 frames\n",
      "Processed 60 frames\n",
      "Processed 90 frames\n",
      "Processed 120 frames\n",
      "Processed 150 frames\n",
      "Processed 180 frames\n",
      "Processed 210 frames\n",
      "Processed 240 frames\n",
      "Processed 270 frames\n",
      "Processed 300 frames\n",
      "Processed 330 frames\n",
      "Processed 360 frames\n",
      "✅ Tracking complete! Output saved at outputs/tracked_output.mp4\n"
     ]
    }
   ],
   "source": [
    "# Football Player and Ball Tracking \n",
    "\n",
    "import os\n",
    "import cv2\n",
    "import torch\n",
    "import numpy as np\n",
    "from ultralytics import YOLO\n",
    "from deep_sort_realtime.deepsort_tracker import DeepSort\n",
    "np.float = float  # monkey patch for compatibility\n",
    "\n",
    "# --------------------------\n",
    "# STEP 1: Configuration\n",
    "# --------------------------\n",
    "input_path = \"input/15sec_input_720p.mp4\"\n",
    "output_path = \"outputs/tracked_output.mp4\"\n",
    "model_path = \"yolov.pt\"  # YOLOv fallback\n",
    "\n",
    "# --------------------------\n",
    "# STEP 2: Load YOLOv model\n",
    "# --------------------------\n",
    "model = YOLO(model_path)\n",
    "print(\"✅ YOLOv model loaded successfully\")\n",
    "\n",
    "# --------------------------\n",
    "# STEP 3: Load DeepSORT with tuned parameters\n",
    "# --------------------------\n",
    "deep_sort_tracker = DeepSort(max_age=30, n_init=3, max_cosine_distance=0.3, nn_budget=100)\n",
    "print(\"✅ DeepSORT tracker loaded successfully\")\n",
    "\n",
    "# --------------------------\n",
    "# STEP 4: Video I/O setup\n",
    "# --------------------------\n",
    "cap = cv2.VideoCapture(input_path)\n",
    "fourcc = cv2.VideoWriter_fourcc(*\"mp4v\")\n",
    "width = int(cap.get(cv2.CAP_PROP_FRAME_WIDTH))\n",
    "height = int(cap.get(cv2.CAP_PROP_FRAME_HEIGHT))\n",
    "fps = int(cap.get(cv2.CAP_PROP_FPS))\n",
    "out = cv2.VideoWriter(output_path, fourcc, fps, (width, height))\n",
    "\n",
    "# --------------------------\n",
    "# STEP 5: Define helper functions\n",
    "# --------------------------\n",
    "def get_color(track_id):\n",
    "    np.random.seed(int(track_id))\n",
    "    return tuple(np.random.randint(0, 255, 3).tolist())\n",
    "\n",
    "track_id_map = {}\n",
    "next_pid = 1\n",
    "\n",
    "# --------------------------\n",
    "# STEP 6: Process Video\n",
    "# --------------------------\n",
    "frame_count = 0\n",
    "while True:\n",
    "    ret, frame = cap.read()\n",
    "    if not ret:\n",
    "        break\n",
    "\n",
    "    frame_count += 1\n",
    "    results = model(frame, verbose=False)[0]\n",
    "\n",
    "    detections = []\n",
    "    for r in results.boxes:\n",
    "        cls_id = int(r.cls.item())\n",
    "        conf = r.conf.item()\n",
    "        if conf < 0.3:\n",
    "            continue\n",
    "        xyxy = r.xyxy.cpu().numpy().astype(int)[0]\n",
    "        bbox_ltwh = [xyxy[0], xyxy[1], xyxy[2]-xyxy[0], xyxy[3]-xyxy[1]]\n",
    "        detections.append((bbox_ltwh, conf, cls_id))\n",
    "\n",
    "    tracks = deep_sort_tracker.update_tracks(detections, frame=frame)\n",
    "\n",
    "    for track in tracks:\n",
    "        if not track.is_confirmed():\n",
    "            continue\n",
    "\n",
    "        tid = track.track_id\n",
    "        if tid not in track_id_map:\n",
    "            track_id_map[tid] = f\"P{next_pid}\"\n",
    "            next_pid += 1\n",
    "\n",
    "        label = track_id_map[tid]\n",
    "        l, t, w, h = track.to_ltrb()\n",
    "        l, t, r, b = int(l), int(t), int(l + w), int(t + h)\n",
    "\n",
    "        color = get_color(tid)\n",
    "        cv2.rectangle(frame, (l, t), (r, b), color, 2)\n",
    "        cv2.putText(frame, label, (l, t - 10), cv2.FONT_HERSHEY_SIMPLEX, 0.6, color, 2)\n",
    "\n",
    "    out.write(frame)\n",
    "    if frame_count % 30 == 0:\n",
    "        print(f\"Processed {frame_count} frames\")\n",
    "\n",
    "cap.release()\n",
    "out.release()\n",
    "print(\"✅ Tracking complete! Output saved at\", output_path)\n"
   ]
  }
 ],
 "metadata": {
  "kernelspec": {
   "display_name": "football_re_id",
   "language": "python",
   "name": "python3"
  },
  "language_info": {
   "codemirror_mode": {
    "name": "ipython",
    "version": 3
   },
   "file_extension": ".py",
   "mimetype": "text/x-python",
   "name": "python",
   "nbconvert_exporter": "python",
   "pygments_lexer": "ipython3",
   "version": "3.10.18"
  }
 },
 "nbformat": 4,
 "nbformat_minor": 5
}
